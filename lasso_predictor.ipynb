{
 "cells": [
  {
   "cell_type": "code",
   "execution_count": 7,
   "metadata": {
    "collapsed": false
   },
   "outputs": [],
   "source": [
    "import numpy as np\n",
    "import pandas as pd\n",
    "import pickle\n",
    "import sys\n",
    "\n",
    "import sklearn as sl\n",
    "from sklearn.externals import joblib"
   ]
  },
  {
   "cell_type": "code",
   "execution_count": 8,
   "metadata": {
    "collapsed": false
   },
   "outputs": [],
   "source": [
    "def main():\n",
    "    lasso = joblib.load('model.pkl') \n",
    "    test = pd.read_csv(sys.argv[1],index_col=False)\n",
    "\n",
    "    test[\"jump\"] = np.log(test[\"jump\"])\n",
    "    numerical_data = ['age', 'height', 'weight', 'sleep']\n",
    "    test[numerical_data] = np.log1p(test[numerical_data])\n",
    "    test = pd.get_dummies(test, columns=['exercise', 'competitive', 'gender', 'injured', 'color', 'race'])\n",
    "\n",
    "    X_test = test.drop('jump', axis=1)\n",
    "    y = test.jump\n",
    "\n",
    "    lasso.predict(X_test)\n",
    "    print('Prediction Accuracy:')\n",
    "    print(lasso.score(X_test,y))\n",
    "\n",
    "    res = lasso.predict(X_test)\n",
    "    print('Predicted Results:')\n",
    "    print(np.exp(res))"
   ]
  },
  {
   "cell_type": "code",
   "execution_count": null,
   "metadata": {
    "collapsed": true
   },
   "outputs": [],
   "source": [
    "if __name__ == '__main__':\n",
    "    if len(sys.argv) <= 1:\n",
    "        print('Please enter a file name for the test case')\n",
    "        print('Usage: python lasso_predictor test.csv')\n",
    "    else:\n",
    "        main()"
   ]
  }
 ],
 "metadata": {
  "kernelspec": {
   "display_name": "Python 3",
   "language": "python",
   "name": "python3"
  },
  "language_info": {
   "codemirror_mode": {
    "name": "ipython",
    "version": 3
   },
   "file_extension": ".py",
   "mimetype": "text/x-python",
   "name": "python",
   "nbconvert_exporter": "python",
   "pygments_lexer": "ipython3",
   "version": "3.6.0"
  }
 },
 "nbformat": 4,
 "nbformat_minor": 2
}
